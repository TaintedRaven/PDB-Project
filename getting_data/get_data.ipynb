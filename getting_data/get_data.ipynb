{
 "cells": [
  {
   "cell_type": "markdown",
   "source": [
    "## Getting data from Personality Database"
   ],
   "metadata": {
    "id": "4EYgYY0oMRxK"
   }
  },
  {
   "cell_type": "markdown",
   "source": [
    "### Libraries and Helpers"
   ],
   "metadata": {
    "id": "aqzL2pmUMZFz"
   }
  },
  {
   "cell_type": "code",
   "execution_count": null,
   "source": [
    "!pip install requests\r\n",
    "!pip install matplotlib\r\n",
    "\r\n",
    "import requests\r\n",
    "import json"
   ],
   "outputs": [],
   "metadata": {
    "id": "OWcV8hVxAxMN"
   }
  },
  {
   "cell_type": "code",
   "execution_count": 2,
   "source": [
    "def getPersonalityType(obj):\r\n",
    "    newObj={}\r\n",
    "    for key, item in obj.items():\r\n",
    "        newObj[key] = item[0][\"personality_type\"]\r\n",
    "    return newObj"
   ],
   "outputs": [],
   "metadata": {
    "id": "qEBUgRB5EITQ"
   }
  },
  {
   "cell_type": "markdown",
   "source": [
    "<a name=\"Definitions\"></a>\n",
    "### Definitions"
   ],
   "metadata": {
    "id": "igpMLIQazGdf"
   }
  },
  {
   "cell_type": "code",
   "execution_count": 3,
   "source": [
    "api = \"https://api.personality-database.com/api/v1\""
   ],
   "outputs": [],
   "metadata": {
    "id": "MTm88YVFPkcF"
   }
  },
  {
   "cell_type": "markdown",
   "source": [
    ">The default API call will only return the first 250 profiles, due to some previous research, I fount out that no type has more than 10000 profiles so we set 10000 as the maximum."
   ],
   "metadata": {
    "id": "oShDupWvE3Dm"
   }
  },
  {
   "cell_type": "code",
   "execution_count": 4,
   "source": [
    "parameters = {\r\n",
    "    \"per_page\":10000\r\n",
    "}"
   ],
   "outputs": [],
   "metadata": {
    "id": "KGYHp1c8E1t4"
   }
  },
  {
   "cell_type": "markdown",
   "source": [
    ">Each of the personality types has an API endpoint corresponding to a number. We create a dictionary so we can reference it."
   ],
   "metadata": {
    "id": "S0RdEUHDJb1A"
   }
  },
  {
   "cell_type": "code",
   "execution_count": 5,
   "source": [
    "dictionary = {\r\n",
    "    1: \"ISTJ\", 2: \"ESTJ\", 3: \"ISFJ\", 4: \"ESFJ\",\r\n",
    "    5: \"ESFP\", 6: \"ISFP\", 7: \"ESTP\", 8: \"ISTP\",\r\n",
    "    9: \"INFJ\", 10: \"ENFJ\", 11: \"INFP\", 12: \"ENFP\",\r\n",
    "    13: \"INTP\", 14: \"ENTP\", 15: \"INTJ\", 16: \"ENTJ\"\r\n",
    "}\r\n"
   ],
   "outputs": [],
   "metadata": {
    "id": "WgaHy0WNHMoi"
   }
  },
  {
   "cell_type": "markdown",
   "source": [
    "### Save data"
   ],
   "metadata": {
    "id": "4Xjfqp_CzOTH"
   }
  },
  {
   "cell_type": "markdown",
   "source": [
    ">Code to save every profile in a json file:"
   ],
   "metadata": {
    "id": "bzKVNDmyo1Eo"
   }
  },
  {
   "cell_type": "code",
   "execution_count": 6,
   "source": [
    "profiles = {}\r\n",
    "\r\n",
    "for num, personality in dictionary.items():\r\n",
    "\r\n",
    "    res = requests.get(f\"{api}/search_by_type/{num}\", params=parameters)\r\n",
    "    \r\n",
    "    for item in res.json()[\"items\"]:\r\n",
    "        profileRes = requests.get(f\"{api}/profile/{item['id']}\")\r\n",
    "        profiles[item[\"mbti_profile\"]] = profileRes.json()\r\n",
    "        profiles[item[\"mbti_profile\"]] = {\r\n",
    "            \"id\" : profileRes.json()[\"id\"],\r\n",
    "            \"personality_type\": getPersonalityType(\r\n",
    "                profileRes.json()[\"breakdown_systems\"]\r\n",
    "            )\r\n",
    "        }\r\n",
    "\r\n",
    "# 15 September 2021\r\n",
    "with open('data/data.json', 'w', encoding='utf-8') as f:\r\n",
    "    json.dump(profiles, f, ensure_ascii=False)"
   ],
   "outputs": [],
   "metadata": {
    "id": "R1CA0rkhP8ti"
   }
  }
 ],
 "metadata": {
  "orig_nbformat": 4,
  "language_info": {
   "name": "python",
   "version": "3.9.7",
   "mimetype": "text/x-python",
   "codemirror_mode": {
    "name": "ipython",
    "version": 3
   },
   "pygments_lexer": "ipython3",
   "nbconvert_exporter": "python",
   "file_extension": ".py"
  },
  "kernelspec": {
   "name": "python3",
   "display_name": "Python 3.9.7 64-bit"
  },
  "interpreter": {
   "hash": "8f4c1b96d37444471a3dd6cfae5c5e4b120a5397743cbc3afa3753152b8feb43"
  }
 },
 "nbformat": 4,
 "nbformat_minor": 2
}